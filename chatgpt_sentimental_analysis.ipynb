{
 "cells": [
  {
   "cell_type": "code",
   "execution_count": 63,
   "id": "0388bc04-33c7-4d9d-8d55-a628fb392e2e",
   "metadata": {},
   "outputs": [],
   "source": [
    "#importing libraries:\n",
    "import numpy as np\n",
    "import pandas as pd\n",
    "from sklearn.model_selection import train_test_split\n",
    "from sklearn.feature_extraction.text import CountVectorizer\n",
    "from sklearn.metrics import accuracy_score, classification_report\n",
    "from sklearn.naive_bayes import MultinomialNB"
   ]
  },
  {
   "cell_type": "code",
   "execution_count": 64,
   "id": "5bbc77d9-3fac-4611-b769-403febf19d03",
   "metadata": {},
   "outputs": [],
   "source": [
    "#importing the csv file:\n",
    "data = pd.read_csv('ChatGPT_sentiment_analysis.csv')"
   ]
  },
  {
   "cell_type": "code",
   "execution_count": 65,
   "id": "1b4d6ad7-38a1-42ba-808e-e3bf91489473",
   "metadata": {},
   "outputs": [
    {
     "data": {
      "text/plain": [
       "0         neutral\n",
       "1            good\n",
       "2         neutral\n",
       "3            good\n",
       "4             bad\n",
       "           ...   \n",
       "219289        bad\n",
       "219290       good\n",
       "219291        bad\n",
       "219292        bad\n",
       "219293    neutral\n",
       "Name: labels, Length: 219294, dtype: object"
      ]
     },
     "execution_count": 65,
     "metadata": {},
     "output_type": "execute_result"
    }
   ],
   "source": [
    "#splitting the data\n",
    "x = data['tweets']\n",
    "y = data['labels']\n",
    "x\n",
    "y"
   ]
  },
  {
   "cell_type": "code",
   "execution_count": 66,
   "id": "75acbffd-4c96-48a1-b15d-e69de18be22f",
   "metadata": {},
   "outputs": [],
   "source": [
    "#splitting data into training and testing sets:\n",
    "x_train, x_test, y_train, y_test = train_test_split(x,y,test_size=0.2, random_state=42)"
   ]
  },
  {
   "cell_type": "code",
   "execution_count": 99,
   "id": "3e704f55-c55d-4823-85bc-f3e151e3c607",
   "metadata": {},
   "outputs": [],
   "source": [
    "#vectorizing text data:\n",
    "vectorizer = CountVectorizer()\n",
    "X_train_vectorized = vectorizer.fit_transform(x_train)\n",
    "X_test_vectorized = vectorizer.transform(x_test)"
   ]
  },
  {
   "cell_type": "code",
   "execution_count": 68,
   "id": "b0df626b-1864-4d22-a51a-e78ad2991f8f",
   "metadata": {},
   "outputs": [
    {
     "data": {
      "text/html": [
       "<style>#sk-container-id-2 {color: black;background-color: white;}#sk-container-id-2 pre{padding: 0;}#sk-container-id-2 div.sk-toggleable {background-color: white;}#sk-container-id-2 label.sk-toggleable__label {cursor: pointer;display: block;width: 100%;margin-bottom: 0;padding: 0.3em;box-sizing: border-box;text-align: center;}#sk-container-id-2 label.sk-toggleable__label-arrow:before {content: \"▸\";float: left;margin-right: 0.25em;color: #696969;}#sk-container-id-2 label.sk-toggleable__label-arrow:hover:before {color: black;}#sk-container-id-2 div.sk-estimator:hover label.sk-toggleable__label-arrow:before {color: black;}#sk-container-id-2 div.sk-toggleable__content {max-height: 0;max-width: 0;overflow: hidden;text-align: left;background-color: #f0f8ff;}#sk-container-id-2 div.sk-toggleable__content pre {margin: 0.2em;color: black;border-radius: 0.25em;background-color: #f0f8ff;}#sk-container-id-2 input.sk-toggleable__control:checked~div.sk-toggleable__content {max-height: 200px;max-width: 100%;overflow: auto;}#sk-container-id-2 input.sk-toggleable__control:checked~label.sk-toggleable__label-arrow:before {content: \"▾\";}#sk-container-id-2 div.sk-estimator input.sk-toggleable__control:checked~label.sk-toggleable__label {background-color: #d4ebff;}#sk-container-id-2 div.sk-label input.sk-toggleable__control:checked~label.sk-toggleable__label {background-color: #d4ebff;}#sk-container-id-2 input.sk-hidden--visually {border: 0;clip: rect(1px 1px 1px 1px);clip: rect(1px, 1px, 1px, 1px);height: 1px;margin: -1px;overflow: hidden;padding: 0;position: absolute;width: 1px;}#sk-container-id-2 div.sk-estimator {font-family: monospace;background-color: #f0f8ff;border: 1px dotted black;border-radius: 0.25em;box-sizing: border-box;margin-bottom: 0.5em;}#sk-container-id-2 div.sk-estimator:hover {background-color: #d4ebff;}#sk-container-id-2 div.sk-parallel-item::after {content: \"\";width: 100%;border-bottom: 1px solid gray;flex-grow: 1;}#sk-container-id-2 div.sk-label:hover label.sk-toggleable__label {background-color: #d4ebff;}#sk-container-id-2 div.sk-serial::before {content: \"\";position: absolute;border-left: 1px solid gray;box-sizing: border-box;top: 0;bottom: 0;left: 50%;z-index: 0;}#sk-container-id-2 div.sk-serial {display: flex;flex-direction: column;align-items: center;background-color: white;padding-right: 0.2em;padding-left: 0.2em;position: relative;}#sk-container-id-2 div.sk-item {position: relative;z-index: 1;}#sk-container-id-2 div.sk-parallel {display: flex;align-items: stretch;justify-content: center;background-color: white;position: relative;}#sk-container-id-2 div.sk-item::before, #sk-container-id-2 div.sk-parallel-item::before {content: \"\";position: absolute;border-left: 1px solid gray;box-sizing: border-box;top: 0;bottom: 0;left: 50%;z-index: -1;}#sk-container-id-2 div.sk-parallel-item {display: flex;flex-direction: column;z-index: 1;position: relative;background-color: white;}#sk-container-id-2 div.sk-parallel-item:first-child::after {align-self: flex-end;width: 50%;}#sk-container-id-2 div.sk-parallel-item:last-child::after {align-self: flex-start;width: 50%;}#sk-container-id-2 div.sk-parallel-item:only-child::after {width: 0;}#sk-container-id-2 div.sk-dashed-wrapped {border: 1px dashed gray;margin: 0 0.4em 0.5em 0.4em;box-sizing: border-box;padding-bottom: 0.4em;background-color: white;}#sk-container-id-2 div.sk-label label {font-family: monospace;font-weight: bold;display: inline-block;line-height: 1.2em;}#sk-container-id-2 div.sk-label-container {text-align: center;}#sk-container-id-2 div.sk-container {/* jupyter's `normalize.less` sets `[hidden] { display: none; }` but bootstrap.min.css set `[hidden] { display: none !important; }` so we also need the `!important` here to be able to override the default hidden behavior on the sphinx rendered scikit-learn.org. See: https://github.com/scikit-learn/scikit-learn/issues/21755 */display: inline-block !important;position: relative;}#sk-container-id-2 div.sk-text-repr-fallback {display: none;}</style><div id=\"sk-container-id-2\" class=\"sk-top-container\"><div class=\"sk-text-repr-fallback\"><pre>MultinomialNB()</pre><b>In a Jupyter environment, please rerun this cell to show the HTML representation or trust the notebook. <br />On GitHub, the HTML representation is unable to render, please try loading this page with nbviewer.org.</b></div><div class=\"sk-container\" hidden><div class=\"sk-item\"><div class=\"sk-estimator sk-toggleable\"><input class=\"sk-toggleable__control sk-hidden--visually\" id=\"sk-estimator-id-2\" type=\"checkbox\" checked><label for=\"sk-estimator-id-2\" class=\"sk-toggleable__label sk-toggleable__label-arrow\">MultinomialNB</label><div class=\"sk-toggleable__content\"><pre>MultinomialNB()</pre></div></div></div></div></div>"
      ],
      "text/plain": [
       "MultinomialNB()"
      ]
     },
     "execution_count": 68,
     "metadata": {},
     "output_type": "execute_result"
    }
   ],
   "source": [
    "#training the model:\n",
    "model = MultinomialNB()\n",
    "model.fit(X_train_vectorized, y_train)"
   ]
  },
  {
   "cell_type": "code",
   "execution_count": 107,
   "id": "53594895-1e83-472e-bcd9-3d449e8011ad",
   "metadata": {},
   "outputs": [
    {
     "name": "stdout",
     "output_type": "stream",
     "text": [
      "Accuracy: 0.71\n",
      "\n",
      "Classification Report:\n",
      "              precision    recall  f1-score   support\n",
      "\n",
      "         bad       0.81      0.87      0.84     21474\n",
      "        good       0.59      0.86      0.70     11204\n",
      "     neutral       0.65      0.24      0.36     11181\n",
      "\n",
      "    accuracy                           0.71     43859\n",
      "   macro avg       0.68      0.66      0.63     43859\n",
      "weighted avg       0.71      0.71      0.68     43859\n",
      "\n"
     ]
    }
   ],
   "source": [
    "#making predictions and evaluating the model:\n",
    "y_pred = model.predict(X_test_vectorized)\n",
    "accuracy = accuracy_score(y_test, y_pred)\n",
    "print(f\"Accuracy: {accuracy:.2f}\")\n",
    "print(\"\\nClassification Report:\")\n",
    "print(classification_report(y_test,y_pred))"
   ]
  },
  {
   "cell_type": "code",
   "execution_count": 108,
   "id": "6725b9b3-45cf-4ab2-8602-558472fe211b",
   "metadata": {},
   "outputs": [],
   "source": [
    "def predict_labels(tweets):\n",
    "    vectorized_tweets = vectorizer.transform([tweets])\n",
    "    prediction = model.predict(vectorized_tweets)\n",
    "    return \"Positive\" if prediction[0] == \"good\" else \"Negative\"\n"
   ]
  },
  {
   "cell_type": "code",
   "execution_count": 109,
   "id": "da4d97dc-328f-4b97-81af-ca6e0a98fdb7",
   "metadata": {},
   "outputs": [
    {
     "name": "stdout",
     "output_type": "stream",
     "text": [
      "Tweets:its good\n",
      "Predicted labels: Positive\n",
      "\n",
      "Tweets:always asking to the user login to access, its a bad thing which i have been observed!\n",
      "Predicted labels: Negative\n",
      "\n",
      "Tweets:sometimes its give wrong statement that can cause the result is bad\n",
      "Predicted labels: Negative\n",
      "\n",
      "Tweets:sometimes its can greatly work.\n",
      "Predicted labels: Positive\n",
      "\n",
      "Tweets:i loved it\n",
      "Predicted labels: Positive\n",
      "\n"
     ]
    }
   ],
   "source": [
    "#testing the function with new tweets:\n",
    "\n",
    "new_tweets = [\"its good\",\n",
    "              \"always asking to the user login to access, its a bad thing which i have been observed!\",\n",
    "              \"sometimes its give wrong statement that can cause the result is bad\",\n",
    "              \"sometimes its can greatly work.\",\n",
    "              \"i loved it\",\n",
    "]\n",
    "for tweets in new_tweets:\n",
    "    print(f\"Tweets:{tweets}\")\n",
    "    print(f\"Predicted labels: {predict_labels(tweets)}\\n\")"
   ]
  },
  {
   "cell_type": "code",
   "execution_count": 110,
   "id": "1dd3d5d3-0493-44ae-8ac8-0e54a0c28024",
   "metadata": {},
   "outputs": [
    {
     "name": "stdout",
     "output_type": "stream",
     "text": [
      "Now can enter your own tweets:\n"
     ]
    },
    {
     "name": "stdin",
     "output_type": "stream",
     "text": [
      "enter your own tweets (or say 'quit',to stop it): above average\n"
     ]
    },
    {
     "name": "stdout",
     "output_type": "stream",
     "text": [
      "Predicted sentiment: Negative\n",
      "\n"
     ]
    },
    {
     "name": "stdin",
     "output_type": "stream",
     "text": [
      "enter your own tweets (or say 'quit',to stop it): good\n"
     ]
    },
    {
     "name": "stdout",
     "output_type": "stream",
     "text": [
      "Predicted sentiment: Positive\n",
      "\n"
     ]
    },
    {
     "name": "stdin",
     "output_type": "stream",
     "text": [
      "enter your own tweets (or say 'quit',to stop it): quit\n"
     ]
    },
    {
     "name": "stdout",
     "output_type": "stream",
     "text": [
      "thank you man\n"
     ]
    }
   ],
   "source": [
    "print(\"Now can enter your own tweets:\")\n",
    "while True:\n",
    "    user_tweets = input(\"enter your own tweets (or say 'quit',to stop it):\")\n",
    "    if user_tweets.lower() == 'quit':\n",
    "        break\n",
    "    print(f\"Predicted sentiment: {predict_sentiment(user_tweets)}\\n\")\n",
    "print(\"thank you man\")"
   ]
  },
  {
   "cell_type": "code",
   "execution_count": null,
   "id": "c55b4af5-c516-4966-a839-e7c1bedaf137",
   "metadata": {},
   "outputs": [],
   "source": []
  }
 ],
 "metadata": {
  "kernelspec": {
   "display_name": "Python 3 (ipykernel)",
   "language": "python",
   "name": "python3"
  },
  "language_info": {
   "codemirror_mode": {
    "name": "ipython",
    "version": 3
   },
   "file_extension": ".py",
   "mimetype": "text/x-python",
   "name": "python",
   "nbconvert_exporter": "python",
   "pygments_lexer": "ipython3",
   "version": "3.11.7"
  }
 },
 "nbformat": 4,
 "nbformat_minor": 5
}
